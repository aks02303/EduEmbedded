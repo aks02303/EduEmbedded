{
  "cells": [
    {
      "cell_type": "code",
      "execution_count": null,
      "metadata": {
        "id": "OO5rG7sFSmsW"
      },
      "outputs": [],
      "source": [
        "from google.colab import drive\n",
        "drive.mount('/content/drive')"
      ]
    },
    {
      "cell_type": "code",
      "execution_count": null,
      "metadata": {
        "id": "C3IiLF7JSZPB"
      },
      "outputs": [],
      "source": [
        "import pandas as pd"
      ]
    },
    {
      "cell_type": "markdown",
      "metadata": {
        "id": "5pdRZKVDEtA_"
      },
      "source": [
        "Load the \"adf_pc_1.csv\" and \"v2_df.csv\""
      ]
    },
    {
      "cell_type": "code",
      "execution_count": null,
      "metadata": {
        "id": "Dxlm6DeiSndS"
      },
      "outputs": [],
      "source": [
        "adf = pd.read_csv('/content/drive/MyDrive/IIITB Docs/sem2/EduEmbed/EduEmbedd/data_prepare/adf_pc_1.csv')\n",
        "\n",
        "v2_df = pd.read_csv('/content/drive/MyDrive/IIITB Docs/sem2/EduEmbed/EduEmbedd/data_prepare/v2_df.csv')"
      ]
    },
    {
      "cell_type": "code",
      "execution_count": null,
      "metadata": {
        "id": "7NfhISpkSnad"
      },
      "outputs": [],
      "source": [
        "adf.head()"
      ]
    },
    {
      "cell_type": "code",
      "execution_count": null,
      "metadata": {
        "id": "c1oAlZ4pSnYj"
      },
      "outputs": [],
      "source": [
        "v2_df.head()"
      ]
    },
    {
      "cell_type": "code",
      "execution_count": null,
      "metadata": {
        "id": "w3-TMzo6SnWk"
      },
      "outputs": [],
      "source": [
        "v2_list = v2_df['0']\n",
        "v2_list"
      ]
    },
    {
      "cell_type": "code",
      "execution_count": null,
      "metadata": {
        "id": "Iz4ClLNLSnUc"
      },
      "outputs": [],
      "source": [
        "v2_list[70]"
      ]
    },
    {
      "cell_type": "markdown",
      "metadata": {
        "id": "W20PXQn_E2Pv"
      },
      "source": [
        "Remove the duplicate concept vocab in v2_list"
      ]
    },
    {
      "cell_type": "code",
      "execution_count": null,
      "metadata": {
        "id": "n47T73bQSuyx"
      },
      "outputs": [],
      "source": [
        "v2_list_new = []\n",
        "for i in v2_list:\n",
        "  if(i not in v2_list_new):\n",
        "    v2_list_new.append(i)\n",
        "len(v2_list_new)"
      ]
    },
    {
      "cell_type": "markdown",
      "metadata": {
        "id": "yKL6jALNE8cG"
      },
      "source": [
        "Below funtion is used to find the list of Concept Vocab for each of the document"
      ]
    },
    {
      "cell_type": "code",
      "execution_count": null,
      "metadata": {
        "id": "lw0NQbGZSuv-"
      },
      "outputs": [],
      "source": [
        "def cn_ci1(text):\n",
        "    text_l = text.split()\n",
        "    out_l = []\n",
        "    for id, txt in enumerate(text_l):\n",
        "        out = ['vi'+str(index) for index, word in enumerate(v2_list_new) if str(word) == str(txt)]\n",
        "        out_l.append(out)\n",
        "    out_l = [item for sublist in out_l for item in sublist]\n",
        "    unique_out_l = []\n",
        "    for x in out_l:\n",
        "      if(x not in unique_out_l):\n",
        "        unique_out_l.append(x)\n",
        "    return unique_out_l\n",
        "\n",
        "adf['concept_vocab_index'] = adf['join_text'].map(lambda s:cn_ci1(s))"
      ]
    },
    {
      "cell_type": "markdown",
      "metadata": {
        "id": "KwEdeSRRFDiv"
      },
      "source": [
        "Below funtion finds the Concept Vocab word present in each document"
      ]
    },
    {
      "cell_type": "code",
      "execution_count": null,
      "metadata": {
        "id": "F4qGvpp2Sut3"
      },
      "outputs": [],
      "source": [
        "def concept_word(text):\n",
        "    text_l = text.split()\n",
        "    out_l = []\n",
        "    for id, txt in enumerate(text_l):\n",
        "        out = [word for index, word in enumerate(v2_list_new) if str(word) == str(txt)]\n",
        "        out_l.append(out)\n",
        "    out_l = [item for sublist in out_l for item in sublist]\n",
        "    unique_out_l = []\n",
        "    for x in out_l:\n",
        "      if(x not in unique_out_l):\n",
        "        unique_out_l.append(x)\n",
        "    return unique_out_l\n",
        "\n",
        "adf['concept_vocab_word'] = adf['join_text'].map(lambda s:concept_word(s))"
      ]
    },
    {
      "cell_type": "code",
      "execution_count": null,
      "metadata": {
        "id": "La5s_7JgSzQv"
      },
      "outputs": [],
      "source": [
        "adf[['concept_vocab_index', 'concept_vocab_word']].head(10)"
      ]
    },
    {
      "cell_type": "code",
      "execution_count": null,
      "metadata": {
        "id": "Sv6pLJMhSzOE"
      },
      "outputs": [],
      "source": [
        "cvi = adf['concept_vocab_index']"
      ]
    },
    {
      "cell_type": "code",
      "execution_count": null,
      "metadata": {
        "id": "AZjibi8xSzMV"
      },
      "outputs": [],
      "source": [
        "cvw = adf['concept_vocab_word']"
      ]
    },
    {
      "cell_type": "code",
      "execution_count": null,
      "metadata": {
        "id": "q5KAXZkoSzKY"
      },
      "outputs": [],
      "source": [
        "cvi[0]"
      ]
    },
    {
      "cell_type": "code",
      "execution_count": null,
      "metadata": {
        "id": "iazMv98HSurw"
      },
      "outputs": [],
      "source": [
        "len(cvi[0])"
      ]
    },
    {
      "cell_type": "code",
      "execution_count": null,
      "metadata": {
        "id": "h0SNkwkjSupo"
      },
      "outputs": [],
      "source": [
        "len(cvw[0])"
      ]
    },
    {
      "cell_type": "code",
      "execution_count": null,
      "metadata": {
        "id": "zR43mKW9S7Md"
      },
      "outputs": [],
      "source": [
        "\n",
        "from sklearn.feature_extraction.text import TfidfVectorizer\n",
        "import numpy as np"
      ]
    },
    {
      "cell_type": "markdown",
      "metadata": {
        "id": "wBkehHXJFKHU"
      },
      "source": [
        "Below function calculates the TfIdf Score for concept vocab words present in each document"
      ]
    },
    {
      "cell_type": "code",
      "execution_count": null,
      "metadata": {
        "id": "siVY4vw2S7KT"
      },
      "outputs": [],
      "source": [
        "\n",
        "def _calculate_tfidf(text_list):\n",
        "    tfidf_vect = TfidfVectorizer()\n",
        "    tfidf = tfidf_vect.fit_transform(text_list)\n",
        "    df = pd.DataFrame(tfidf.todense(), columns = tfidf_vect.get_feature_names_out())\n",
        "    # df = pd.DataFrame(tfidf[0].T.todense(), index=tfidf_vect.get_feature_names_out(), columns=[\"TF-IDF\"])\n",
        "    return df\n",
        "\n",
        "temptfidf = _calculate_tfidf(adf['join_text'])"
      ]
    },
    {
      "cell_type": "code",
      "execution_count": null,
      "metadata": {
        "id": "Rhx91-1dS_Fz"
      },
      "outputs": [],
      "source": [
        "temptfidf"
      ]
    },
    {
      "cell_type": "code",
      "execution_count": null,
      "metadata": {
        "id": "9L18VZuQS_CY"
      },
      "outputs": [],
      "source": [
        "cols = temptfidf.columns\n",
        "cols"
      ]
    },
    {
      "cell_type": "markdown",
      "metadata": {
        "id": "GYKkDlEiFUBF"
      },
      "source": [
        "Below code stores the TfIdf score in the DataFrame and it is saved as \"adf_with_tfidf.csv\" which will be used for further tasks."
      ]
    },
    {
      "cell_type": "code",
      "execution_count": null,
      "metadata": {
        "id": "gFukLY_cS_Am"
      },
      "outputs": [],
      "source": [
        "cvw_tfidf_score = []\n",
        "for i in range(len(temptfidf)):\n",
        "  cvw = adf.loc[i]['concept_vocab_word']\n",
        "  tfidf = temptfidf.loc[i]\n",
        "  # print(cvw)\n",
        "  # print(tfidf)\n",
        "  cvw_tfidf = []\n",
        "  for word in cvw:\n",
        "    for ind, col in enumerate(cols):\n",
        "      if (word==col):\n",
        "        cvw_tfidf.append(round(tfidf[ind],2))\n",
        "  # print(cvw_tfidf)\n",
        "  # print(len(cvw), len(cvw_tfidf))\n",
        "  cvw_tfidf_score.append(cvw_tfidf)\n",
        "\n",
        "\n",
        "adf['concept_vocab_word_tfidf'] = cvw_tfidf_score\n",
        "adf"
      ]
    },
    {
      "cell_type": "code",
      "execution_count": null,
      "metadata": {
        "id": "y2bgvVj-S--o"
      },
      "outputs": [],
      "source": [
        "len(adf['concept_vocab_word_tfidf'][0])"
      ]
    },
    {
      "cell_type": "code",
      "execution_count": null,
      "metadata": {
        "id": "nTahtO9mS-9A"
      },
      "outputs": [],
      "source": [
        "a = adf['concept_vocab_word'][5]\n",
        "b = adf['concept_vocab_word_tfidf'][5]\n",
        "print(a)\n",
        "print(b)"
      ]
    },
    {
      "cell_type": "code",
      "execution_count": null,
      "metadata": {
        "id": "huaS60xETEVt"
      },
      "outputs": [],
      "source": [
        "adf.to_csv('adf_with_tfidf.csv')"
      ]
    },
    {
      "cell_type": "code",
      "execution_count": null,
      "metadata": {
        "id": "TlpytHcvTES_"
      },
      "outputs": [],
      "source": [
        "temptfidf.loc[5]['markov']"
      ]
    },
    {
      "cell_type": "code",
      "execution_count": null,
      "metadata": {
        "id": "tOdPFPiTTEQv"
      },
      "outputs": [],
      "source": [
        "temptfidf.loc[5]['generalize']"
      ]
    },
    {
      "cell_type": "code",
      "execution_count": null,
      "metadata": {
        "id": "ftwtMN6kTEOp"
      },
      "outputs": [],
      "source": [
        "temptfidf.loc[6]['information']"
      ]
    },
    {
      "cell_type": "code",
      "execution_count": null,
      "metadata": {
        "id": "vZib67JpS-7H"
      },
      "outputs": [],
      "source": [
        "temptfidf.loc[7]['information']"
      ]
    },
    {
      "cell_type": "code",
      "execution_count": null,
      "metadata": {
        "id": "I-vjpHIyTQaV"
      },
      "outputs": [],
      "source": []
    },
    {
      "cell_type": "code",
      "execution_count": null,
      "metadata": {
        "id": "Py3XhTFBTQYo"
      },
      "outputs": [],
      "source": []
    },
    {
      "cell_type": "code",
      "execution_count": null,
      "metadata": {
        "id": "KnpSfg8dTQWp"
      },
      "outputs": [],
      "source": [
        "import pandas as pd\n",
        "from sklearn.feature_extraction.text import TfidfVectorizer\n",
        "\n",
        "dataset = [\n",
        "    \"accuracy if the large amount if data is accessible accuracy will be more\",\n",
        "    \"five word with underscore are absolute_discounting absolute_temporal_expression abstract_word accented_syllabes\",\n",
        "    \"accuracy, words starting with a addone_smoothing, adequecy, adjacency_pairs, adjective, adjective_phrase, adjectives, adjunction_tag\",\n",
        "    \"some random words minimum_edit_distance, naive_bayes_classifier, pointwise_mutual, information\"\n",
        "]\n",
        "\n",
        "# def _calculate_tfidf(text_list):\n",
        "#     tfidf_vect = TfidfVectorizer()\n",
        "#     tfidf = tfidf_vect.fit_transform(text_list)\n",
        "#     df = pd.DataFrame(tfidf[0].T.todense(), index=tfidf_vect.get_feature_names_out(), columns=[\"TF-IDF\"])\n",
        "#     return df\n",
        "\n",
        "# dummytfidf = _calculate_tfidf(dataset)"
      ]
    },
    {
      "cell_type": "code",
      "execution_count": null,
      "metadata": {
        "id": "xx5cXRe0TQUv"
      },
      "outputs": [],
      "source": [
        "tfidf_vect = TfidfVectorizer()\n",
        "tfidf = tfidf_vect.fit_transform(dataset)"
      ]
    },
    {
      "cell_type": "code",
      "execution_count": null,
      "metadata": {
        "id": "TcVvEHXLTQSk"
      },
      "outputs": [],
      "source": [
        "df = pd.DataFrame(tfidf.todense(), columns = tfidf_vect.get_feature_names_out())"
      ]
    },
    {
      "cell_type": "code",
      "execution_count": null,
      "metadata": {
        "id": "hqTPtRccTQRG"
      },
      "outputs": [],
      "source": [
        "df"
      ]
    },
    {
      "cell_type": "code",
      "execution_count": null,
      "metadata": {
        "id": "ymEoSGwlTQPL"
      },
      "outputs": [],
      "source": [
        "tfidf = tfidf.todense()"
      ]
    },
    {
      "cell_type": "code",
      "execution_count": null,
      "metadata": {
        "id": "ow0JzEu7TW_7"
      },
      "outputs": [],
      "source": [
        "tfidf"
      ]
    },
    {
      "cell_type": "code",
      "execution_count": null,
      "metadata": {
        "id": "lNd13SwHTW9K"
      },
      "outputs": [],
      "source": [
        "temptfidf.loc['accuracy'][0]"
      ]
    },
    {
      "cell_type": "code",
      "execution_count": null,
      "metadata": {
        "id": "Xk9R1o5aTW6-"
      },
      "outputs": [],
      "source": []
    },
    {
      "cell_type": "code",
      "execution_count": null,
      "metadata": {
        "id": "WT9Gd2aWTW48"
      },
      "outputs": [],
      "source": []
    }
  ],
  "metadata": {
    "colab": {
      "provenance": []
    },
    "kernelspec": {
      "display_name": "Python 3",
      "name": "python3"
    },
    "language_info": {
      "name": "python"
    }
  },
  "nbformat": 4,
  "nbformat_minor": 0
}
