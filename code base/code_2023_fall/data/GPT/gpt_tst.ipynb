{
 "cells": [
  {
   "cell_type": "code",
   "execution_count": 1,
   "metadata": {},
   "outputs": [],
   "source": [
    "import openai\n",
    "import os\n",
    "from dotenv import load_dotenv\n",
    "\n",
    "load_dotenv()\n",
    "openai.api_key = os.getenv('API_KEY')"
   ]
  },
  {
   "cell_type": "code",
   "execution_count": 3,
   "metadata": {},
   "outputs": [],
   "source": [
    "lst = [1, 2]"
   ]
  },
  {
   "cell_type": "code",
   "execution_count": 2,
   "metadata": {},
   "outputs": [],
   "source": [
    "def generate_response(prompt):\n",
    "    response = openai.ChatCompletion.create(\n",
    "        model='gpt-3.5-turbo',\n",
    "        messages=[\n",
    "            {\"role\": \"system\", \"content\": \"I am a student and I have a project on knowledge graph embeddings. I have some transcripts and I have to get concept vocabulary from the transcript.\"},\n",
    "            {\"role\": \"system\", \"content\": \"your output format should be just a List like: \\\"word1\\nword2\\\", DO NOT PROVIDE ACKNOWLEDGEMENT STATEMENTS. Get me the concept vocabulary words from the transcript. The list should be SORTED BY RELEVANCE OR RARITY on the topic of transcript.\"},\n",
    "            {\"role\": \"user\", \"content\": f\"{prompt}\"},\n",
    "        ],\n",
    "        n=1,\n",
    "        max_tokens=100,\n",
    "    )\n",
    "    return response"
   ]
  },
  {
   "cell_type": "code",
   "execution_count": null,
   "metadata": {},
   "outputs": [],
   "source": [
    "# student of nlp, and want to get a list of concepts which are relevant for me in this below text/transcript\n",
    "# one shot learn"
   ]
  },
  {
   "cell_type": "code",
   "execution_count": 5,
   "metadata": {},
   "outputs": [],
   "source": [
    "import pandas as pd\n",
    "adf = pd.read_csv('../data_intermediates/adf_pc_1.csv')"
   ]
  },
  {
   "cell_type": "code",
   "execution_count": 6,
   "metadata": {},
   "outputs": [],
   "source": [
    "response_list = []\n",
    "word_list = []"
   ]
  },
  {
   "cell_type": "code",
   "execution_count": 7,
   "metadata": {},
   "outputs": [
    {
     "name": "stdout",
     "output_type": "stream",
     "text": [
      "Response 0...generated\n"
     ]
    }
   ],
   "source": [
    "f = open('gpt3.5-response.txt', 'w')\n",
    "w = open('gpt3.5-ans.txt', 'w')\n",
    "for i in range(0, 1):\n",
    "    if i % 3 == 0 and i != 0:\n",
    "        f.write(str(response_list))\n",
    "        w.write(str(word_list))\n",
    "        time.sleep(40)\n",
    "    print(f'Response {i}...', end='')\n",
    "    response = generate_response(f\"Transcript: {adf['join_text'][i]}\")\n",
    "    response_list.append(response)\n",
    "    word_list.append(response['choices'][0]['message']['content'])\n",
    "    print('generated')\n",
    "\n",
    "\n",
    "f.write(str(response_list))\n",
    "w.write(str(word_list))\n",
    "f.close()\n",
    "w.close()"
   ]
  },
  {
   "cell_type": "code",
   "execution_count": 8,
   "metadata": {},
   "outputs": [
    {
     "data": {
      "text/plain": [
       "1"
      ]
     },
     "execution_count": 8,
     "metadata": {},
     "output_type": "execute_result"
    }
   ],
   "source": [
    "len(response_list)"
   ]
  }
 ],
 "metadata": {
  "kernelspec": {
   "display_name": "wsl_env",
   "language": "python",
   "name": "python3"
  },
  "language_info": {
   "codemirror_mode": {
    "name": "ipython",
    "version": 3
   },
   "file_extension": ".py",
   "mimetype": "text/x-python",
   "name": "python",
   "nbconvert_exporter": "python",
   "pygments_lexer": "ipython3",
   "version": "3.7.1"
  },
  "orig_nbformat": 4
 },
 "nbformat": 4,
 "nbformat_minor": 2
}
